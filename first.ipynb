{
 "cells": [
  {
   "cell_type": "code",
   "execution_count": 154,
   "metadata": {
    "collapsed": true,
    "scrolled": false
   },
   "outputs": [],
   "source": [
    "import pandas as pd\n",
    "import numpy as np\n",
    "import glob\n",
    "\n",
    "np.random.seed(491)\n",
    "\n",
    "def get_df_glob(glob_pattern):\n",
    "    \"\"\"Concatenate and preprocess data from CSVs matching the given glob pattern.\"\"\"\n",
    "    dfs = []\n",
    "    for filepath in glob.glob(glob_pattern):\n",
    "        #filename = \"data/avalik_1.csv\"\n",
    "        dfs.append(pd.read_csv(filepath, sep=\"\\t\"))\n",
    "    df = pd.concat(dfs, axis=0)\n",
    "    print(df.shape)\n",
    "\n",
    "    # Remove missing\n",
    "    df = df[pd.notnull(df[\"Lest_X\"]) & pd.notnull(df[\"Lest_Y\"])]\n",
    "\n",
    "    # Extract coordinate buckets as integers\n",
    "    re_coordbucket = r\"(\\d+)\\-(\\d+)\"\n",
    "    random_std = 0.5\n",
    "    extracted_x = df[\"Lest_X\"].str.extract(re_coordbucket, expand=False)\n",
    "    df[\"Lest_X_min\"] = extracted_x.iloc[:, 0].astype(int)\n",
    "    df[\"Lest_X_max\"] = extracted_x.iloc[:, 1].astype(int)\n",
    "    #df[\"Lest_X_rand\"] = df[\"Lest_X_min\"] + np.random.rand(df.shape[0]) * (df[\"Lest_X_max\"] - df[\"Lest_X_min\"])\n",
    "    df[\"Lest_X_rand\"] = df[\"Lest_X_min\"] + (0.5 + np.random.normal(size=(df.shape[0],), scale=random_std)) * (df[\"Lest_X_max\"] - df[\"Lest_X_min\"])\n",
    "\n",
    "    extracted_y = df[\"Lest_Y\"].str.extract(re_coordbucket, expand=False)\n",
    "    df[\"Lest_Y_min\"] = extracted_y.iloc[:, 0].astype(int)\n",
    "    df[\"Lest_Y_max\"] = extracted_y.iloc[:, 1].astype(int)\n",
    "    #df[\"Lest_Y_rand\"] = df[\"Lest_Y_min\"] + np.random.rand(df.shape[0]) * (df[\"Lest_Y_max\"] - df[\"Lest_Y_min\"])\n",
    "    df[\"Lest_Y_rand\"] = df[\"Lest_Y_min\"] + (0.5 + np.random.normal(size=(df.shape[0],), scale=random_std)) * (df[\"Lest_Y_max\"] - df[\"Lest_Y_min\"])\n",
    "    \n",
    "    return df"
   ]
  },
  {
   "cell_type": "code",
   "execution_count": 155,
   "metadata": {
    "collapsed": true
   },
   "outputs": [],
   "source": [
    "from bokeh.plotting import figure, output_notebook\n",
    "from datashader.bokeh_ext import InteractiveImage\n",
    "from datashader.colors import colormap_select\n",
    "from datashader.utils import export_image\n",
    "from colorcet import fire\n",
    "import datashader as ds\n",
    "import datashader.transfer_functions as tf\n",
    "from functools import partial\n",
    "\n",
    "\n",
    "\n",
    "def plot_heatmap(df, jitter=False, height=2000, background=\"black\", filename=\"heatmap.png\"):\n",
    "\n",
    "    cm = partial(colormap_select, reverse=(background!=\"black\"))\n",
    "\n",
    "    ratio = (np.max(df[\"Lest_Y_max\"]) - np.min(df[\"Lest_Y_min\"])) / (np.max(df[\"Lest_X_max\"]) - np.min(df[\"Lest_X_min\"]))\n",
    "    plot_width = int(ratio * height)\n",
    "    cvs =  ds.Canvas(plot_width=plot_width,\n",
    "                     plot_height=height,\n",
    "                     #x_range=x_range,\n",
    "                     #y_range=y_range\n",
    "                    )\n",
    "    \n",
    "    options = dict()\n",
    "    \n",
    "    if jitter:\n",
    "        agg = cvs.points(df, 'Lest_Y_rand', 'Lest_X_rand')\n",
    "    else:\n",
    "        agg = cvs.points(df, 'Lest_Y_min', 'Lest_X_min')\n",
    "        \n",
    "    img = tf.shade(agg, cmap=cm(fire, 0.5), how='eq_hist', **options)\n",
    "    #img = tf.spread(img, px=5, how=\"saturate\")\n",
    "    img = tf.set_background(img, \"black\")\n",
    "\n",
    "    img_pil = img.to_pil()\n",
    "    img_pil.save(filename)"
   ]
  },
  {
   "cell_type": "code",
   "execution_count": 156,
   "metadata": {},
   "outputs": [
    {
     "name": "stdout",
     "output_type": "stream",
     "text": [
      "(71799, 18)\n",
      "(161327, 27)\n",
      "(637530, 26)\n"
     ]
    }
   ],
   "source": [
    "df_avalik = get_df_glob(\"data/avalik_*.csv\")\n",
    "df_vara = get_df_glob(\"data/vara*.csv\")\n",
    "df_liiklus = get_df_glob(\"data/liiklusjarelevalve*.csv\")"
   ]
  },
  {
   "cell_type": "code",
   "execution_count": 157,
   "metadata": {
    "collapsed": true
   },
   "outputs": [],
   "source": [
    "df_all = pd.concat((df_avalik, df_vara, df_liiklus))\n",
    "df_all[\"cat\"] = pd.Series([\"avalik\"] * df_avalik.shape[0] + [\"vara\"] * df_vara.shape[0] + [\"liiklus\"] * df_liiklus.shape[0],\n",
    "                         dtype=\"category\")\n",
    "\n",
    "jitter = False\n",
    "height = 1200\n",
    "plot_heatmap(df_avalik, jitter=jitter, filename=\"heat_avalik.png\", height=height)\n",
    "plot_heatmap(df_vara, jitter=jitter, filename=\"heat_vara.png\", height=height)\n",
    "plot_heatmap(df_liiklus, jitter=jitter, filename=\"heat_liiklus.png\", height=height)\n",
    "plot_heatmap(df_all, jitter=jitter, filename=\"heat_all.png\", height=height)"
   ]
  }
 ],
 "metadata": {
  "kernelspec": {
   "display_name": "Python 3",
   "language": "python",
   "name": "python3"
  },
  "language_info": {
   "codemirror_mode": {
    "name": "ipython",
    "version": 3
   },
   "file_extension": ".py",
   "mimetype": "text/x-python",
   "name": "python",
   "nbconvert_exporter": "python",
   "pygments_lexer": "ipython3",
   "version": "3.6.3"
  }
 },
 "nbformat": 4,
 "nbformat_minor": 2
}
